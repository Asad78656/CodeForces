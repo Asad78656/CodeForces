{
  "nbformat": 4,
  "nbformat_minor": 0,
  "metadata": {
    "colab": {
      "provenance": [],
      "authorship_tag": "ABX9TyNMAvX1mqERLhmQD50IYRzu",
      "include_colab_link": true
    },
    "kernelspec": {
      "name": "python3",
      "display_name": "Python 3"
    },
    "language_info": {
      "name": "python"
    }
  },
  "cells": [
    {
      "cell_type": "markdown",
      "metadata": {
        "id": "view-in-github",
        "colab_type": "text"
      },
      "source": [
        "<a href=\"https://colab.research.google.com/github/Asad78656/CodeForces/blob/main/Python_basics.ipynb\" target=\"_parent\"><img src=\"https://colab.research.google.com/assets/colab-badge.svg\" alt=\"Open In Colab\"/></a>"
      ]
    },
    {
      "cell_type": "markdown",
      "source": [
        "#count no of digits"
      ],
      "metadata": {
        "id": "aV0WBoOdGtyJ"
      }
    },
    {
      "cell_type": "code",
      "source": [
        "def count(n):\n",
        "\n",
        "    cnt = 0\n",
        "\n",
        "    while(n > 0):\n",
        "       cnt = cnt+1\n",
        "       n = n//10\n",
        "\n",
        "    return  cnt\n",
        "\n",
        "\n"
      ],
      "metadata": {
        "id": "jJ6MNmnXEVMZ"
      },
      "execution_count": 9,
      "outputs": []
    },
    {
      "cell_type": "code",
      "source": [
        "n = int(input('Enter any no : '))\n",
        "digits = count(n)\n",
        "print(digits)"
      ],
      "metadata": {
        "colab": {
          "base_uri": "https://localhost:8080/"
        },
        "id": "YcWr56QcE1UB",
        "outputId": "3a34cb9e-ac1d-454f-9151-05cece33ab5e"
      },
      "execution_count": 10,
      "outputs": [
        {
          "output_type": "stream",
          "name": "stdout",
          "text": [
            "Enter any no : 356363\n",
            "6\n"
          ]
        }
      ]
    },
    {
      "cell_type": "markdown",
      "source": [
        "#reverse a number"
      ],
      "metadata": {
        "id": "JvFrIFksHGab"
      }
    },
    {
      "cell_type": "code",
      "source": [
        "def reverse(n):\n",
        "  rev = 0\n",
        "  while(n>0):\n",
        "    rem = n%10\n",
        "    rev = rev*10 + rem\n",
        "    n = n//10\n",
        "\n",
        "  return rev\n",
        "\n"
      ],
      "metadata": {
        "id": "FzGGBWGBHOtD"
      },
      "execution_count": 12,
      "outputs": []
    },
    {
      "cell_type": "code",
      "source": [
        "n = int(input())\n",
        "rev = reverse(n)\n",
        "print(rev)"
      ],
      "metadata": {
        "colab": {
          "base_uri": "https://localhost:8080/"
        },
        "id": "5amxPrQNHs6f",
        "outputId": "da4d6323-23df-4ebe-b146-e8600b972fb8"
      },
      "execution_count": 13,
      "outputs": [
        {
          "output_type": "stream",
          "name": "stdout",
          "text": [
            "4566\n",
            "6654\n"
          ]
        }
      ]
    },
    {
      "cell_type": "code",
      "source": [],
      "metadata": {
        "id": "IoEWqOCaH3_G"
      },
      "execution_count": null,
      "outputs": []
    },
    {
      "cell_type": "markdown",
      "source": [
        "#gcd of two numbers"
      ],
      "metadata": {
        "id": "LuLMVgkSH9ul"
      }
    },
    {
      "cell_type": "code",
      "source": [
        "\n",
        "def hcf(a,b):\n",
        "  hcf = 1\n",
        "  for i in range(1,min(a,b)+1):\n",
        "    if(a%i==0  and b%i==0):\n",
        "      hcf = i\n",
        "\n",
        "  return hcf"
      ],
      "metadata": {
        "id": "tUk9VUENICj8"
      },
      "execution_count": 22,
      "outputs": []
    },
    {
      "cell_type": "code",
      "source": [
        "a = int(input())\n",
        "b = int(input())\n",
        "h = hcf(a,b)\n",
        "print(h)"
      ],
      "metadata": {
        "colab": {
          "base_uri": "https://localhost:8080/"
        },
        "id": "2CoJG85fIsis",
        "outputId": "5ae439fe-d469-40fe-da26-7ce94b145d28"
      },
      "execution_count": 23,
      "outputs": [
        {
          "output_type": "stream",
          "name": "stdout",
          "text": [
            "24\n",
            "36\n",
            "12\n"
          ]
        }
      ]
    },
    {
      "cell_type": "code",
      "source": [],
      "metadata": {
        "id": "RQlc9zKDI2pO"
      },
      "execution_count": 15,
      "outputs": []
    }
  ]
}